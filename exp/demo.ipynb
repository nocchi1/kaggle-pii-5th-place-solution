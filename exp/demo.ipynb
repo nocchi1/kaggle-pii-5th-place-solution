{
 "cells": [
  {
   "cell_type": "markdown",
   "metadata": {},
   "source": [
    "# Library"
   ]
  },
  {
   "cell_type": "code",
   "execution_count": 59,
   "metadata": {},
   "outputs": [],
   "source": [
    "import polars as pl\n",
    "import gc\n",
    "import pickle\n",
    "from pathlib import Path, PosixPath\n",
    "from tqdm.auto import tqdm\n",
    "from collections import defaultdict, Counter\n",
    "\n",
    "import sys\n",
    "\n",
    "sys.path.append(\"..\")\n",
    "\n",
    "from src.utils import seed_everything, get_logger, get_config, TimeUtil\n",
    "from src.preprocess import DataProvider1st\n",
    "from src.train import get_train_loaders"
   ]
  },
  {
   "cell_type": "markdown",
   "metadata": {},
   "source": [
    "# Setup"
   ]
  },
  {
   "cell_type": "code",
   "execution_count": 60,
   "metadata": {},
   "outputs": [],
   "source": [
    "# コマンドライン引数\n",
    "exp = \"087\""
   ]
  },
  {
   "cell_type": "code",
   "execution_count": 61,
   "metadata": {},
   "outputs": [
    {
     "name": "stdout",
     "output_type": "stream",
     "text": [
      "[ \u001b[32m2024-10-11 05:04:12\u001b[0m | \u001b[1mINFO ] exp:087 start\u001b[0m\n"
     ]
    }
   ],
   "source": [
    "config = get_config(exp, config_dir=Path(\"../config\"))\n",
    "logger = get_logger(config.output_path)\n",
    "logger.info(f\"exp:{exp} start\")\n",
    "\n",
    "seed_everything(config.seed)"
   ]
  },
  {
   "cell_type": "code",
   "execution_count": 4,
   "metadata": {},
   "outputs": [
    {
     "data": {
      "text/plain": [
       "[['nicholas', True], ['mpware', False], ['pjma', False]]"
      ]
     },
     "execution_count": 4,
     "metadata": {},
     "output_type": "execute_result"
    }
   ],
   "source": [
    "config.debug = True\n",
    "config.exter_dataset"
   ]
  },
  {
   "cell_type": "markdown",
   "metadata": {},
   "source": [
    "# Data"
   ]
  },
  {
   "cell_type": "code",
   "execution_count": 5,
   "metadata": {},
   "outputs": [
    {
     "data": {
      "text/plain": [
       "400"
      ]
     },
     "execution_count": 5,
     "metadata": {},
     "output_type": "execute_result"
    }
   ],
   "source": [
    "dpr = DataProvider1st(config, \"train\")\n",
    "data = dpr.load_data()\n",
    "len(data)"
   ]
  },
  {
   "cell_type": "code",
   "execution_count": 6,
   "metadata": {},
   "outputs": [
    {
     "name": "stderr",
     "output_type": "stream",
     "text": [
      "/root/kaggle-the-learning-agency-lab-pii-data-detection/.venv/lib/python3.10/site-packages/transformers/convert_slow_tokenizer.py:560: UserWarning: The sentencepiece tokenizer that you are converting to a fast tokenizer uses the byte fallback option which is not implemented in the fast tokenizers. In practice this means that the fast version of the tokenizer can produce unknown tokens whereas the sentencepiece version would have converted these unknown tokens into a sequence of byte tokens matching the original piece of text.\n",
      "  warnings.warn(\n"
     ]
    }
   ],
   "source": [
    "dataloaders = get_train_loaders(config, data)"
   ]
  },
  {
   "cell_type": "markdown",
   "metadata": {},
   "source": [
    "# Model"
   ]
  },
  {
   "cell_type": "code",
   "execution_count": null,
   "metadata": {},
   "outputs": [],
   "source": []
  },
  {
   "cell_type": "code",
   "execution_count": null,
   "metadata": {},
   "outputs": [],
   "source": []
  },
  {
   "cell_type": "code",
   "execution_count": null,
   "metadata": {},
   "outputs": [],
   "source": [
    "from omegaconf import DictConfig\n",
    "from torch import nn\n",
    "from torch.optim.optimizer import Optimizer\n",
    "\n",
    "from src.model.models.conv1d import LEAPConv1D\n",
    "from src.model.models.lstm import LEAPLSTM\n",
    "from src.model.models.transformer import LEAPTransformer\n",
    "from src.train.loss import LEAPLoss\n",
    "from src.train.optimizer import get_optimizer\n",
    "from src.train.scheduler import get_scheduler\n",
    "\n",
    "\n",
    "class ComponentFactory:\n",
    "    # [TODO]要編集\n",
    "    @staticmethod\n",
    "    def get_model(config: DictConfig):\n",
    "        if config.task_type == \"detect\":\n",
    "            model = DetectModel(config)\n",
    "        elif config.task_type == \"classify\":\n",
    "            model = ClassifyModel()\n",
    "\n",
    "        if config.reinit_layer_num > 0:\n",
    "            model.reinit_layers(config.reinit_layer_num)\n",
    "        if config.freeze_layer_num > 0:\n",
    "            model.freeze_layers(config.freeze_layer_num)\n",
    "        return model\n",
    "\n",
    "    # [TODO]要編集\n",
    "    @staticmethod\n",
    "    def get_loss(config: DictConfig):\n",
    "        if config.task_type == \"detect\":\n",
    "            if config.smooth_type == \"online\":\n",
    "                loss_fn = None\n",
    "            else:\n",
    "                loss_fn = SmoothingCELoss(config, weight=config.loss_class_weight)\n",
    "\n",
    "        elif config.task_type == \"classify\":\n",
    "            loss_fn = WeightedBCELoss()\n",
    "        return loss_fn\n",
    "\n",
    "    @staticmethod\n",
    "    def get_optimizer(config: DictConfig, model):\n",
    "        optimizer = get_optimizer(\n",
    "            model,\n",
    "            optimizer_type=config.optimizer_type,\n",
    "            pretrained_lr=config.pretrained_lr,\n",
    "            head_lr=config.head_lr,\n",
    "            weight_decay=config.weight_decay,\n",
    "            betas=config.betas,\n",
    "        )\n",
    "        return optimizer\n",
    "\n",
    "    @staticmethod\n",
    "    def get_scheduler(config: DictConfig, optimizer: Optimizer, steps_per_epoch: int):\n",
    "        total_steps = config.epochs * steps_per_epoch\n",
    "        if config.scheduler_type == \"linear\":\n",
    "            scheduler_args = {\n",
    "                \"num_warmup_steps\": config.num_warmup_steps,\n",
    "                \"num_training_steps\": total_steps,\n",
    "            }\n",
    "        elif config.scheduler_type == \"cosine\":\n",
    "            scheduler_args = {\n",
    "                \"num_warmup_steps\": config.num_warmup_steps,\n",
    "                \"num_training_steps\": total_steps,\n",
    "                \"num_cycles\": config.num_cycles,\n",
    "            }\n",
    "        elif config.scheduler_type == \"cosine_custom\":\n",
    "            first_cycle_steps = config.first_cycle_epochs * steps_per_epoch\n",
    "            scheduler_args = {\n",
    "                \"first_cycle_steps\": first_cycle_steps,\n",
    "                \"cycle_factor\": config.cycle_factor,\n",
    "                \"num_warmup_steps\": config.num_warmup_steps,\n",
    "                \"min_lr\": config.min_lr,\n",
    "                \"gamma\": config.gamma,\n",
    "            }\n",
    "        elif config.scheduler_type == \"reduce_on_plateau\":\n",
    "            scheduler_args = {\n",
    "                \"mode\": config.mode,\n",
    "                \"factor\": config.factor,\n",
    "                \"patience\": config.patience,\n",
    "                \"min_lr\": config.min_lr,\n",
    "            }\n",
    "        else:\n",
    "            raise ValueError(f\"Invalid scheduler_type: {config.scheduler_type}\")\n",
    "\n",
    "        scheduler = get_scheduler(optimizer, scheduler_type=config.scheduler_type, scheduler_args=scheduler_args)\n",
    "        return scheduler\n"
   ]
  },
  {
   "cell_type": "code",
   "execution_count": 30,
   "metadata": {},
   "outputs": [
    {
     "name": "stderr",
     "output_type": "stream",
     "text": [
      "/root/kaggle-the-learning-agency-lab-pii-data-detection/.venv/lib/python3.10/site-packages/huggingface_hub/file_download.py:1132: FutureWarning: `resume_download` is deprecated and will be removed in version 1.0.0. Downloads always resume when possible. If you want to force a new download, use `force_download=True`.\n",
      "  warnings.warn(\n"
     ]
    }
   ],
   "source": [
    "train_loader = dataloaders[0][0]\n",
    "model = get_model(config)"
   ]
  },
  {
   "cell_type": "markdown",
   "metadata": {},
   "source": [
    "# Train"
   ]
  },
  {
   "cell_type": "code",
   "execution_count": null,
   "metadata": {},
   "outputs": [],
   "source": [
    "for fold, (train_loader, valid_loader) in enumerate(dataloaders):\n",
    "    logger.info(f\"\\n FOLD{fold} : Training Start \\n\")"
   ]
  },
  {
   "cell_type": "code",
   "execution_count": 31,
   "metadata": {},
   "outputs": [],
   "source": [
    "# train over folds\n",
    "oof_dfs = []\n",
    "best_steps_list, best_add_steps_list = [], []\n",
    "for fold, (train_loader, valid_loader) in enumerate(dataloaders):\n",
    "    model = get_model(config)\n",
    "    optimizer = get_optimizer(config, model)\n",
    "    oof_df, score, best_steps, best_add_steps = train_model(\n",
    "        config,\n",
    "        model,\n",
    "        train_loader,\n",
    "        valid_loader,\n",
    "        optimizer,\n",
    "        logger,\n",
    "        fold,\n",
    "        suffix=suffix,\n",
    "    )\n",
    "    oof_df.write_parquet(config.oof_path / f\"oof_fold{fold}{suffix}.parquet\")\n",
    "    oof_dfs.append(oof_df)\n",
    "    best_score, best_th = get_best_negative_threshold(config, oof_df)\n",
    "    config.negative_th = best_th\n",
    "    message = f\"FOLD: {fold}, Steps: {best_steps} + {best_add_steps}, Best Score: {best_score}, Best Negative Threshold: {best_th}\"\n",
    "    logger.info(message)\n",
    "    best_steps_list.append(best_steps)\n",
    "    best_add_steps_list.append(best_add_steps)\n",
    "\n",
    "    del train_loader, valid_loader, model\n",
    "    gc.collect()\n",
    "    torch.cuda.empty_cache()\n",
    "del dataloaders\n",
    "gc.collect()\n",
    "\n",
    "# save oof\n",
    "oof_df = pl.concat(oof_dfs)\n",
    "oof_df.write_parquet(config.oof_path / f\"oof_{config.exp}{suffix}.parquet\")\n",
    "\n",
    "# get best threshold\n",
    "best_score, best_th = get_best_negative_threshold(config, oof_df)\n",
    "message = f\"Overall OOF Best Score: {best_score}, Best Negative Threshold: {best_th}\"\n",
    "logger.info(message)\n",
    "config.negative_th = best_th\n",
    "\n",
    "# full train\n",
    "if config.full_train:\n",
    "    full_train_steps, full_train_add_steps = np.max(best_steps_list), np.max(best_add_steps_list)\n",
    "    logger.info(f\"\\n Full Train : Training Start, Num of Steps : {full_train_steps} + {full_train_add_steps}\\n\")\n",
    "    train_loader = get_full_train_loader(config, train_data)\n",
    "    model = get_model(config)\n",
    "    optimizer = get_optimizer(config, model)\n",
    "    full_train_model(config, model, train_loader, optimizer, full_train_steps, full_train_add_steps, logger, suffix)\n",
    "    message = f\"Full Train Completed\"\n",
    "    logger.info(message)"
   ]
  },
  {
   "cell_type": "code",
   "execution_count": 32,
   "metadata": {},
   "outputs": [],
   "source": [
    "out = model(input_ids, attention_mask, positions)"
   ]
  },
  {
   "cell_type": "code",
   "execution_count": 33,
   "metadata": {},
   "outputs": [
    {
     "data": {
      "text/plain": [
       "torch.Size([16, 128, 2])"
      ]
     },
     "execution_count": 33,
     "metadata": {},
     "output_type": "execute_result"
    }
   ],
   "source": [
    "out.shape"
   ]
  },
  {
   "cell_type": "code",
   "execution_count": null,
   "metadata": {},
   "outputs": [],
   "source": []
  }
 ],
 "metadata": {
  "kernelspec": {
   "display_name": ".venv",
   "language": "python",
   "name": "python3"
  },
  "language_info": {
   "codemirror_mode": {
    "name": "ipython",
    "version": 3
   },
   "file_extension": ".py",
   "mimetype": "text/x-python",
   "name": "python",
   "nbconvert_exporter": "python",
   "pygments_lexer": "ipython3",
   "version": "3.10.13"
  }
 },
 "nbformat": 4,
 "nbformat_minor": 2
}
